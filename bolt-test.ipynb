{
 "cells": [
  {
   "cell_type": "code",
   "execution_count": 5,
   "metadata": {},
   "outputs": [
    {
     "name": "stdout",
     "output_type": "stream",
     "text": [
      "<Record label='Movie'>\n",
      "<Record label='Person'>\n",
      "nodes:  0\n",
      "rels: 0\n",
      "1.5  ms elapsed time\n",
      "-----------------\n"
     ]
    }
   ],
   "source": [
    "#!pip install neo4j-driver\n",
    "# note: always consume the BOLT result set to avoid memory overflows eg summary = result.consume()\n",
    "\n",
    "\n",
    "import time\n",
    "\n",
    "from neo4j import GraphDatabase, basic_auth, TRUST_ON_FIRST_USE, CypherError\n",
    "\n",
    "driver = GraphDatabase.driver(\"bolt://localhost\",\n",
    "                              auth=basic_auth(\"neo4j\", \"test\"),\n",
    "                              encrypted=False,\n",
    "                              trust=TRUST_ON_FIRST_USE)\n",
    "\n",
    "session = driver.session()\n",
    "\n",
    "query1 = '''\n",
    "CALL db.labels();\n",
    "'''\n",
    "\n",
    "## full pattern, using explicit transactions (recommended)\n",
    "try:\n",
    "    session = driver.session()\n",
    "    t0 = time.time()\n",
    "\n",
    "    with session.begin_transaction() as tx:\n",
    "        result = tx.run(query1)\n",
    "        tx.success = True;\n",
    "\n",
    "        for record in result:\n",
    "            print(record)\n",
    "\n",
    "        summary = result.consume()\n",
    "        counters = summary.counters\n",
    "        print(\"nodes: \" , counters.nodes_created)\n",
    "        print(\"rels:\" , counters.relationships_created)\n",
    "        print(round((time.time() - t0)*1000,1), \" ms elapsed time\")\n",
    "\n",
    "except Exception as e:\n",
    "    print('*** Got exception',e)\n",
    "    if not isinstance(e, CypherError):\n",
    "        print('*** Rolling back')\n",
    "        session.rollback()\n",
    "    else:\n",
    "        print('*** Not rolling back')\n",
    "\n",
    "finally:\n",
    "    session.close()\n",
    "    print('-----------------')\n",
    "\n"
   ]
  },
  {
   "cell_type": "code",
   "execution_count": 2,
   "metadata": {},
   "outputs": [
    {
     "name": "stdout",
     "output_type": "stream",
     "text": [
      "processing...\n",
      "<Record relationshipType='RELATED_TO'>\n",
      "<Record relationshipType='ACTED_IN'>\n",
      "<Record relationshipType='DIRECTED'>\n",
      "<Record relationshipType='PRODUCED'>\n",
      "<Record relationshipType='WROTE'>\n",
      "<Record relationshipType='FOLLOWS'>\n",
      "<Record relationshipType='REVIEWED'>\n",
      "<neo4j.BoltStatementResultSummary object at 0x10f75a4e0>\n",
      "{}\n",
      "3.6  ms elapsed time\n",
      "-----------------\n"
     ]
    }
   ],
   "source": [
    "import time\n",
    "\n",
    "from neo4j import GraphDatabase, basic_auth, TRUST_ON_FIRST_USE, CypherError\n",
    "\n",
    "driver = GraphDatabase.driver(\"bolt://localhost\",\n",
    "                              auth=basic_auth(\"neo4j\", \"test\"),\n",
    "                              encrypted=False,\n",
    "                              trust=TRUST_ON_FIRST_USE)\n",
    "\n",
    "session = driver.session()\n",
    "\n",
    "query2 = '''\n",
    "CALL db.relationshipTypes();\n",
    "'''\n",
    "\n",
    "## short pattern, using implicit transaction (quick and dirty)\n",
    "session = driver.session()\n",
    "t0 = time.time()\n",
    "print(\"processing...\")\n",
    "result = session.run(query2)\n",
    "\n",
    "for record in result:\n",
    "    print(record)\n",
    "\n",
    "summary = result.consume()\n",
    "counters = summary.counters\n",
    "print(summary)\n",
    "print(counters)\n",
    "print(round((time.time() - t0)*1000,1), \" ms elapsed time\")\n",
    "print('-----------------')\n",
    "session.close()\n",
    "\n"
   ]
  },
  {
   "cell_type": "code",
   "execution_count": 6,
   "metadata": {},
   "outputs": [
    {
     "name": "stdout",
     "output_type": "stream",
     "text": [
      "processing...\n",
      "CALL db.labels();\n",
      "\n",
      "<Record label='Movie'>\n",
      "<Record label='Person'>\n",
      "<neo4j.BoltStatementResultSummary object at 0x110a759b0>\n",
      "{}\n",
      "1.4  ms elapsed time\n",
      "-----------------\n",
      "processing...\n",
      "CALL db.relationshipTypes();\n",
      "\n",
      "<Record relationshipType='ACTED_IN'>\n",
      "<Record relationshipType='DIRECTED'>\n",
      "<Record relationshipType='PRODUCED'>\n",
      "<Record relationshipType='WROTE'>\n",
      "<Record relationshipType='FOLLOWS'>\n",
      "<Record relationshipType='REVIEWED'>\n",
      "<neo4j.BoltStatementResultSummary object at 0x110a75d30>\n",
      "{}\n",
      "1.4  ms elapsed time\n",
      "-----------------\n"
     ]
    }
   ],
   "source": [
    "import time\n",
    "\n",
    "from neo4j import GraphDatabase, basic_auth, TRUST_ON_FIRST_USE, CypherError\n",
    "\n",
    "driver = GraphDatabase.driver(\"bolt://localhost\",\n",
    "                              auth=basic_auth(\"neo4j\", \"test\"),\n",
    "                              encrypted=False,\n",
    "                              trust=TRUST_ON_FIRST_USE)\n",
    "\n",
    "session = driver.session()\n",
    "\n",
    "query1 = '''\n",
    "CALL db.labels();\n",
    "'''\n",
    "\n",
    "query2 = '''\n",
    "CALL db.relationshipTypes();\n",
    "'''\n",
    "\n",
    "## short pattern as a function\n",
    "def run_bolt_query(q):\n",
    "    session = driver.session()\n",
    "    t0 = time.time()\n",
    "    print(\"processing...\" + q)\n",
    "    result = session.run(q)\n",
    "    \n",
    "    for record in result:\n",
    "        print(record)\n",
    "    \n",
    "    summary = result.consume()\n",
    "    counters = summary.counters\n",
    "    print(summary)\n",
    "    print(counters)\n",
    "    print(round((time.time() - t0)*1000,1), \" ms elapsed time\")\n",
    "    print('-----------------')\n",
    "    session.close()\n",
    "\n",
    "run_bolt_query(query1)\n",
    "run_bolt_query(query2)\n"
   ]
  },
  {
   "cell_type": "code",
   "execution_count": null,
   "metadata": {
    "collapsed": true
   },
   "outputs": [],
   "source": []
  }
 ],
 "metadata": {
  "kernelspec": {
   "display_name": "Python 3",
   "language": "python",
   "name": "python3"
  },
  "language_info": {
   "codemirror_mode": {
    "name": "ipython",
    "version": 3
   },
   "file_extension": ".py",
   "mimetype": "text/x-python",
   "name": "python",
   "nbconvert_exporter": "python",
   "pygments_lexer": "ipython3",
   "version": "3.7.3"
  }
 },
 "nbformat": 4,
 "nbformat_minor": 2
}
